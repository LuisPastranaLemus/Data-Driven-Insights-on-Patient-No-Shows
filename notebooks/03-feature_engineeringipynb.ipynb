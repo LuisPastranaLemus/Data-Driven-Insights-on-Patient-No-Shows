{
 "cells": [
  {
   "cell_type": "markdown",
   "id": "d3c4b153",
   "metadata": {},
   "source": [
    "#### Feature Engineering\n",
    "**Dataset:** KaggleV2-May-2016.zip  \n",
    "**Author:** Luis Sergio Pastrana Lemus  \n",
    "**Date:** 2025-05-24"
   ]
  },
  {
   "cell_type": "markdown",
   "id": "a8f3e607",
   "metadata": {},
   "source": [
    "## Libraries"
   ]
  },
  {
   "cell_type": "code",
   "execution_count": 1,
   "id": "b61d8655",
   "metadata": {},
   "outputs": [],
   "source": [
    "import os\n",
    "import sys\n",
    "import pprint\n",
    "from pathlib import Path\n",
    "import pandas as pd\n",
    "\n",
    "# Define project root dynamically, gets the current directory from whick the notebook belongs and moves one level upper\n",
    "project_root = Path.cwd().parent\n",
    "\n",
    "# Add src to sys.path if it is not already\n",
    "if str(project_root) not in sys.path:\n",
    "    sys.path.append(str(project_root))\n",
    "\n",
    "# Import function directly (more controlled than import *)\n",
    "from src import *"
   ]
  },
  {
   "cell_type": "markdown",
   "id": "3d79539a",
   "metadata": {},
   "source": [
    "## Path to Data file"
   ]
  },
  {
   "cell_type": "code",
   "execution_count": 2,
   "id": "621a73dc",
   "metadata": {},
   "outputs": [],
   "source": [
    "data_file_path_clean = project_root / \"data\" / \"processed\" / \"patients_clean.csv\"\n",
    "df_patients_clean = load_dataset_from_csv(data_file_path_clean, header='infer',  parse_dates=['scheduled_day', 'appointment_day'])"
   ]
  },
  {
   "cell_type": "code",
   "execution_count": 3,
   "id": "f7fea9df",
   "metadata": {},
   "outputs": [],
   "source": [
    "format_notebook()"
   ]
  },
  {
   "cell_type": "markdown",
   "id": "e09be08d",
   "metadata": {},
   "source": [
    "### Waiting time between scheduling and appointment"
   ]
  },
  {
   "cell_type": "code",
   "execution_count": 4,
   "id": "85ce22b6",
   "metadata": {},
   "outputs": [
    {
     "name": "stdout",
     "output_type": "stream",
     "text": [
      "<class 'pandas.core.frame.DataFrame'>\n",
      "RangeIndex: 110527 entries, 0 to 110526\n",
      "Data columns (total 14 columns):\n",
      " #   Column           Non-Null Count   Dtype              \n",
      "---  ------           --------------   -----              \n",
      " 0   patient_id       110527 non-null  int64              \n",
      " 1   appointment_id   110527 non-null  int64              \n",
      " 2   gender           110527 non-null  object             \n",
      " 3   scheduled_day    110527 non-null  datetime64[ns, UTC]\n",
      " 4   appointment_day  110527 non-null  datetime64[ns, UTC]\n",
      " 5   age              110527 non-null  int64              \n",
      " 6   neighbourhood    110527 non-null  object             \n",
      " 7   scholarship      110527 non-null  bool               \n",
      " 8   hipertension     110527 non-null  bool               \n",
      " 9   diabetes         110527 non-null  bool               \n",
      " 10  alcoholism       110527 non-null  bool               \n",
      " 11  handcap          110527 non-null  bool               \n",
      " 12  sms_received     110527 non-null  bool               \n",
      " 13  no_show          110527 non-null  object             \n",
      "dtypes: bool(6), datetime64[ns, UTC](2), int64(3), object(3)\n",
      "memory usage: 7.4+ MB\n"
     ]
    }
   ],
   "source": [
    "df_patients_clean.info()"
   ]
  },
  {
   "cell_type": "code",
   "execution_count": 5,
   "id": "c8151145",
   "metadata": {},
   "outputs": [
    {
     "name": "stdout",
     "output_type": "stream",
     "text": [
      "patient_id\n",
      "822145925426128    88\n",
      "99637671331        84\n",
      "26886125921145     70\n",
      "33534783483176     65\n",
      "871374938638855    62\n",
      "                   ..\n",
      "734536231958495     1\n",
      "78124564369297      1\n",
      "56394729949972      1\n",
      "733688164476661     1\n",
      "8841186448183       1\n",
      "Name: count, Length: 62299, dtype: int64\n"
     ]
    }
   ],
   "source": [
    "print(df_patients_clean['patient_id'].value_counts())"
   ]
  },
  {
   "cell_type": "code",
   "execution_count": 6,
   "id": "67a5b470",
   "metadata": {},
   "outputs": [
    {
     "name": "stdout",
     "output_type": "stream",
     "text": [
      "             patient_id  appointment_id no_show           appointment_day             scheduled_day  days_waiting\n",
      "46995    62566927247961         5607061     yes 2016-05-18 00:00:00+00:00 2016-04-20 11:02:15+00:00            28\n",
      "82570     3996739777887         5645533      no 2016-05-02 00:00:00+00:00 2016-05-02 10:03:24+00:00             0\n",
      "71800    74981215322154         5664902     yes 2016-05-05 00:00:00+00:00 2016-05-05 13:39:17+00:00             0\n",
      "78525   746757565862383         5700616      no 2016-05-17 00:00:00+00:00 2016-05-16 09:37:32+00:00             1\n",
      "63501    49375648372849         5704393      no 2016-05-19 00:00:00+00:00 2016-05-16 15:37:53+00:00             3\n",
      "38007    85922122763292         5634129     yes 2016-05-25 00:00:00+00:00 2016-04-28 10:25:11+00:00            27\n",
      "104172   58171584692296         5770192      no 2016-06-03 00:00:00+00:00 2016-06-03 09:53:02+00:00             0\n",
      "10698     8284516281776         5687146      no 2016-05-11 00:00:00+00:00 2016-05-11 14:57:05+00:00             0\n",
      "91650   433799831844626         5772893      no 2016-06-07 00:00:00+00:00 2016-06-03 16:59:25+00:00             4\n",
      "58867     8531636326979         5725374      no 2016-05-24 00:00:00+00:00 2016-05-20 11:02:01+00:00             4\n",
      "43577     6478878156333         5564593      no 2016-05-09 00:00:00+00:00 2016-04-11 07:50:49+00:00            28\n",
      "22973   318228514225586         5686929      no 2016-05-12 00:00:00+00:00 2016-05-11 14:19:26+00:00             1\n",
      "58018   655953548566785         5751661      no 2016-05-31 00:00:00+00:00 2016-05-31 10:27:18+00:00             0\n",
      "20530   929311892667391         5710757     yes 2016-05-18 00:00:00+00:00 2016-05-17 17:48:35+00:00             1\n",
      "58702     6428591954284         5603420     yes 2016-05-19 00:00:00+00:00 2016-04-20 06:54:31+00:00            29\n",
      "51425     2336138272216         5642678      no 2016-05-02 00:00:00+00:00 2016-04-29 16:45:45+00:00             3\n",
      "34133    73251953167971         5646150      no 2016-05-06 00:00:00+00:00 2016-05-02 10:58:03+00:00             4\n",
      "95743    78476542648923         5767929      no 2016-06-03 00:00:00+00:00 2016-06-03 07:12:32+00:00             0\n",
      "82332    71371117316962         5706446      no 2016-05-17 00:00:00+00:00 2016-05-17 08:20:08+00:00             0\n",
      "68574   491525357947832         5743751      no 2016-05-30 00:00:00+00:00 2016-05-30 09:22:30+00:00             0\n",
      "59890   327741937331682         5589592     yes 2016-05-25 00:00:00+00:00 2016-04-15 12:28:32+00:00            40\n",
      "85225     2816827711815         5767126      no 2016-06-02 00:00:00+00:00 2016-06-02 16:34:30+00:00             0\n",
      "9681    366356515997948         5666809      no 2016-05-06 00:00:00+00:00 2016-05-06 07:08:08+00:00             0\n",
      "73281      698513816986         5700901      no 2016-05-16 00:00:00+00:00 2016-05-16 09:53:28+00:00             0\n",
      "54574     9671627622513         5677407      no 2016-05-16 00:00:00+00:00 2016-05-10 07:11:52+00:00             6\n"
     ]
    }
   ],
   "source": [
    "df_patients_waiting_time = df_patients_clean.loc[:, ['patient_id', 'appointment_id', 'no_show', 'appointment_day', 'scheduled_day']]\n",
    "df_patients_waiting_time['days_waiting'] = (df_patients_clean['appointment_day'].dt.normalize() - df_patients_clean['scheduled_day'].dt.normalize()).dt.days\n",
    "print(df_patients_waiting_time.sample(25, random_state=333))"
   ]
  },
  {
   "cell_type": "code",
   "execution_count": 7,
   "id": "0a4e9801",
   "metadata": {},
   "outputs": [
    {
     "name": "stdout",
     "output_type": "stream",
     "text": [
      "             patient_id  appointment_id no_show           appointment_day             scheduled_day  days_waiting  no_show_bin\n",
      "46995    62566927247961         5607061     yes 2016-05-18 00:00:00+00:00 2016-04-20 11:02:15+00:00            28            1\n",
      "82570     3996739777887         5645533      no 2016-05-02 00:00:00+00:00 2016-05-02 10:03:24+00:00             0            0\n",
      "71800    74981215322154         5664902     yes 2016-05-05 00:00:00+00:00 2016-05-05 13:39:17+00:00             0            1\n",
      "78525   746757565862383         5700616      no 2016-05-17 00:00:00+00:00 2016-05-16 09:37:32+00:00             1            0\n",
      "63501    49375648372849         5704393      no 2016-05-19 00:00:00+00:00 2016-05-16 15:37:53+00:00             3            0\n",
      "38007    85922122763292         5634129     yes 2016-05-25 00:00:00+00:00 2016-04-28 10:25:11+00:00            27            1\n",
      "104172   58171584692296         5770192      no 2016-06-03 00:00:00+00:00 2016-06-03 09:53:02+00:00             0            0\n",
      "10698     8284516281776         5687146      no 2016-05-11 00:00:00+00:00 2016-05-11 14:57:05+00:00             0            0\n",
      "91650   433799831844626         5772893      no 2016-06-07 00:00:00+00:00 2016-06-03 16:59:25+00:00             4            0\n",
      "58867     8531636326979         5725374      no 2016-05-24 00:00:00+00:00 2016-05-20 11:02:01+00:00             4            0\n",
      "43577     6478878156333         5564593      no 2016-05-09 00:00:00+00:00 2016-04-11 07:50:49+00:00            28            0\n",
      "22973   318228514225586         5686929      no 2016-05-12 00:00:00+00:00 2016-05-11 14:19:26+00:00             1            0\n",
      "58018   655953548566785         5751661      no 2016-05-31 00:00:00+00:00 2016-05-31 10:27:18+00:00             0            0\n",
      "20530   929311892667391         5710757     yes 2016-05-18 00:00:00+00:00 2016-05-17 17:48:35+00:00             1            1\n",
      "58702     6428591954284         5603420     yes 2016-05-19 00:00:00+00:00 2016-04-20 06:54:31+00:00            29            1\n",
      "51425     2336138272216         5642678      no 2016-05-02 00:00:00+00:00 2016-04-29 16:45:45+00:00             3            0\n",
      "34133    73251953167971         5646150      no 2016-05-06 00:00:00+00:00 2016-05-02 10:58:03+00:00             4            0\n",
      "95743    78476542648923         5767929      no 2016-06-03 00:00:00+00:00 2016-06-03 07:12:32+00:00             0            0\n",
      "82332    71371117316962         5706446      no 2016-05-17 00:00:00+00:00 2016-05-17 08:20:08+00:00             0            0\n",
      "68574   491525357947832         5743751      no 2016-05-30 00:00:00+00:00 2016-05-30 09:22:30+00:00             0            0\n",
      "59890   327741937331682         5589592     yes 2016-05-25 00:00:00+00:00 2016-04-15 12:28:32+00:00            40            1\n",
      "85225     2816827711815         5767126      no 2016-06-02 00:00:00+00:00 2016-06-02 16:34:30+00:00             0            0\n",
      "9681    366356515997948         5666809      no 2016-05-06 00:00:00+00:00 2016-05-06 07:08:08+00:00             0            0\n",
      "73281      698513816986         5700901      no 2016-05-16 00:00:00+00:00 2016-05-16 09:53:28+00:00             0            0\n",
      "54574     9671627622513         5677407      no 2016-05-16 00:00:00+00:00 2016-05-10 07:11:52+00:00             6            0\n"
     ]
    }
   ],
   "source": [
    "df_patients_waiting_time['no_show_bin'] = df_patients_waiting_time['no_show'].map({'no' : 0, 'yes' : 1}) \n",
    "print(df_patients_waiting_time.sample(25, random_state=333))"
   ]
  },
  {
   "cell_type": "code",
   "execution_count": 9,
   "id": "6d4b0ca8",
   "metadata": {},
   "outputs": [],
   "source": [
    "project_root = Path.cwd().parent\n",
    "processed_path = project_root / \"data\" / \"processed\" / \"patients_dayswaiting_noshow.csv\"\n",
    "\n",
    "df_patients_waiting_time.to_csv(processed_path, index=False)"
   ]
  },
  {
   "cell_type": "markdown",
   "id": "5780aad5",
   "metadata": {},
   "source": [
    "##### `LSPL`\n",
    "\n",
    "**Note:** Feature engineering for Waiting time between scheduling and appointment relation.`\n",
    "\n",
    "##### 🔍 `🔗 Related notebook: See [EDA Notebook](./eda.ipynb) for detailed insights.`"
   ]
  }
 ],
 "metadata": {
  "kernelspec": {
   "display_name": "P-20250523_Patients_no_show",
   "language": "python",
   "name": "python3"
  },
  "language_info": {
   "codemirror_mode": {
    "name": "ipython",
    "version": 3
   },
   "file_extension": ".py",
   "mimetype": "text/x-python",
   "name": "python",
   "nbconvert_exporter": "python",
   "pygments_lexer": "ipython3",
   "version": "3.13.2"
  }
 },
 "nbformat": 4,
 "nbformat_minor": 5
}
