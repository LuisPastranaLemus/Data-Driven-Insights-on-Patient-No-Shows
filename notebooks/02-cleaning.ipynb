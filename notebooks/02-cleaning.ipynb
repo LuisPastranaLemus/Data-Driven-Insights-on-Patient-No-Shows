{
 "cells": [
  {
   "cell_type": "code",
   "execution_count": null,
   "id": "84c10837",
   "metadata": {},
   "outputs": [],
   "source": []
  }
 ],
 "metadata": {
  "language_info": {
   "name": "python"
  }
 },
 "nbformat": 4,
 "nbformat_minor": 5
}
