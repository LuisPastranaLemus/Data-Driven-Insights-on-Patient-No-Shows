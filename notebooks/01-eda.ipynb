{
 "cells": [
  {
   "cell_type": "markdown",
   "id": "d589bc86",
   "metadata": {},
   "source": [
    "#### Exploratory Data Analysis & Key Insights\n",
    "**Dataset:** KaggleV2-May-2016.zip  \n",
    "**Author:** Luis Sergio Pastrana Lemus  \n",
    "**Date:** 2025-05-24"
   ]
  },
  {
   "cell_type": "markdown",
   "id": "e6569c1d",
   "metadata": {},
   "source": [
    "## Libraries"
   ]
  },
  {
   "cell_type": "code",
   "execution_count": null,
   "id": "d9bf4b28",
   "metadata": {},
   "outputs": [
    {
     "ename": "ModuleNotFoundError",
     "evalue": "No module named 'src'",
     "output_type": "error",
     "traceback": [
      "\u001b[31m---------------------------------------------------------------------------\u001b[39m",
      "\u001b[31mModuleNotFoundError\u001b[39m                       Traceback (most recent call last)",
      "\u001b[36mCell\u001b[39m\u001b[36m \u001b[39m\u001b[32mIn[2]\u001b[39m\u001b[32m, line 15\u001b[39m\n\u001b[32m     12\u001b[39m \u001b[38;5;28;01mif\u001b[39;00m \u001b[38;5;28mstr\u001b[39m(src_path) \u001b[38;5;129;01mnot\u001b[39;00m \u001b[38;5;129;01min\u001b[39;00m sys.path:\n\u001b[32m     13\u001b[39m     sys.path.append(\u001b[38;5;28mstr\u001b[39m(src_path))\n\u001b[32m---> \u001b[39m\u001b[32m15\u001b[39m \u001b[38;5;28;01mfrom\u001b[39;00m\u001b[38;5;250m \u001b[39m\u001b[34;01msrc\u001b[39;00m\u001b[38;5;250m \u001b[39m\u001b[38;5;28;01mimport\u001b[39;00m *\n",
      "\u001b[31mModuleNotFoundError\u001b[39m: No module named 'src'"
     ]
    }
   ],
   "source": [
    "import os\n",
    "import sys\n",
    "import pprint\n",
    "from pathlib import Path\n",
    "import pandas as pd\n",
    "\n",
    "# Define project root dynamically, gets the current directory from whick the notebook belongs and moves one level upper\n",
    "project_root = Path.cwd().parent\n",
    "\n",
    "# Add src to sys.path if it is not already\n",
    "if str(project_root) not in sys.path:\n",
    "    sys.path.append(str(project_root))\n",
    "\n",
    "# Import function directly (more controlled than import *)\n",
    "from src import *"
   ]
  },
  {
   "cell_type": "markdown",
   "id": "4396e3a0",
   "metadata": {},
   "source": [
    "## Path to Data File"
   ]
  },
  {
   "cell_type": "code",
   "execution_count": null,
   "id": "c8b8abf0",
   "metadata": {},
   "outputs": [],
   "source": [
    "# Build route to CSV and upload\n",
    "data_file_path = project_root / \"data\" / \"raw\" / \"KaggleV2-May-2016.zip\"\n",
    "\n",
    "df_patients = load_dataset_from_zip(data_file_path, \"KaggleV2-May-2016.csv\", sep='|', header='infer')\n",
    "\n"
   ]
  }
 ],
 "metadata": {
  "kernelspec": {
   "display_name": "P-20250523_Patients_no_show",
   "language": "python",
   "name": "python3"
  },
  "language_info": {
   "codemirror_mode": {
    "name": "ipython",
    "version": 3
   },
   "file_extension": ".py",
   "mimetype": "text/x-python",
   "name": "python",
   "nbconvert_exporter": "python",
   "pygments_lexer": "ipython3",
   "version": "3.13.2"
  }
 },
 "nbformat": 4,
 "nbformat_minor": 5
}
